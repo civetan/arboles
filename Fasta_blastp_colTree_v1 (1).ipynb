{
  "nbformat": 4,
  "nbformat_minor": 0,
  "metadata": {
    "colab": {
      "name": "Fasta-blastp-colTree_v1.ipynb",
      "provenance": [],
      "collapsed_sections": []
    },
    "kernelspec": {
      "name": "python3",
      "display_name": "Python 3"
    }
  },
  "cells": [
    {
      "cell_type": "markdown",
      "metadata": {
        "id": "d9etbcJN15HJ",
        "colab_type": "text"
      },
      "source": [
        "# query_blastp-maff-trimal-fastree-prune-nexus_coloreado"
      ]
    },
    {
      "cell_type": "code",
      "metadata": {
        "id": "437n8A2JyOB8",
        "colab_type": "code",
        "colab": {}
      },
    {
      "cell_type": "markdown",
      "metadata": {
        "id": "Ye11h1uS25Hy",
        "colab_type": "text"
      },
      "source": [
        "Descripcion del proposito:\n",
        "\n",
        "Descripcion de las tareas:\n",
        "\n",
        "Descripcion de los archivos de entrada y salida:"
      ]
    },
    {
      "cell_type": "markdown",
      "metadata": {
        "id": "tPNpxeIJ9KB8",
        "colab_type": "text"
      },
      "source": [
        "## 1.  Prerequisitos\n",
        "\n",
        "1. Conectarse al entorno de ejecucuion alojado\n",
        "2. Conectarse a google drive\n",
        "3. En google drive debe estar la carpeta genefiles\n",
        "\n"
      ]
    },
    {
      "cell_type": "code",
      "metadata": {
        "id": "LAUtSGRdd7ao",
        "colab_type": "code",
        "outputId": "6b59f028-57d0-4787-c60f-2c428957afd7",
        "colab": {
          "base_uri": "https://localhost:8080/",
          "height": 34
        }
      },
      "source": [
        "from google.colab import drive\n",
        "drive.mount('/content/drive', force_remount=True)"
      ],
      "execution_count": 0,
      "outputs": [
        {
          "output_type": "stream",
          "text": [
            "Mounted at /content/drive\n"
          ],
          "name": "stdout"
        }
      ]
    },
    {
      "cell_type": "code",
      "metadata": {
        "id": "K6VWZjj9AMUH",
        "colab_type": "code",
        "colab": {}
      },
      "source": [
        "!cp -r /content/drive/My\\ Drive/genefiles/ /content/genefiles/"
      ],
      "execution_count": 0,
      "outputs": []
    },
    {
      "cell_type": "markdown",
      "metadata": {
        "id": "xf81wK_Y5x41",
        "colab_type": "text"
      },
      "source": [
        "## 2. Instalacion de paquetes\n",
        "\n",
        "\n"
      ]
    },
    {
      "cell_type": "code",
      "metadata": {
        "id": "_bjJA5EG1WEF",
        "colab_type": "code",
        "colab": {}
      },
      "source": [
        "%%capture\n",
        "\n",
        "# 1. conda\n",
        " \n",
        "!wget -c https://repo.anaconda.com/miniconda/Miniconda3-4.5.4-Linux-x86_64.sh\n",
        "!chmod +x Miniconda3-4.5.4-Linux-x86_64.sh\n",
        "!bash ./Miniconda3-4.5.4-Linux-x86_64.sh -b -f -p /usr/local\n",
        "# update 1\n",
        "!conda install -q -y --prefix /usr/local python=3.6 ujson\n",
        "# update 2\n",
        "import sys\n",
        "sys.path.append('/usr/local/lib/python3.6/site-packages')\n",
        "# test it\n",
        "import ujson\n",
        "print(ujson.dumps({1:2}))\n",
        "\n",
        "# 2. biopython y blast\n",
        "!conda install -y -c conda-forge biopython\n",
        "!conda install -y -c bioconda blast\n",
        "\n",
        "# 3. # Install ETE\n",
        "!conda install -y -c etetoolkit ete3 ete_toolchain\n",
        "!apt-get install xvfb\n",
        "\n",
        "# 4. newick utilities\n",
        "!conda install -y -c bioconda newick_utils\n",
        "\n",
        "#agrego el path a sys para importar el dict de colores\n",
        "import sys\n",
        "sys.path.append('/content/genefiles/nw_colors/')\n",
        "from nw_colores import NAMED_COLORS as colores\n",
        "\n",
        "#Importo los modulos\n",
        "from Bio import SeqIO\n",
        "from Bio.Blast import NCBIWWW\n",
        "from Bio.Blast import NCBIXML\n",
        "from Bio.Blast.Applications import NcbiblastpCommandline\n",
        "import re, os, ntpath, shutil\n",
        "import pandas as pd\n"
      ],
      "execution_count": 0,
      "outputs": []
    },
    {
      "cell_type": "markdown",
      "metadata": {
        "id": "1M305qOY_Fo4",
        "colab_type": "text"
      },
      "source": [
        "## 2. Seccion de Funciones"
      ]
    },
    {
      "cell_type": "code",
      "metadata": {
        "id": "eKxhQCxm-19M",
        "colab_type": "code",
        "colab": {}
      },
      "source": [
        "# Query record\n",
        "\n",
        "def FastaFileToList(fasta_file):\n",
        "  fasta_sequences = SeqIO.parse(open(fasta_file),'fasta')\n",
        "  return [[i.id,str(i.seq)] for i in fasta_sequences]\n",
        "\n",
        "# Blast\n",
        "\n",
        "def listaIDstoFasta(listaIds,fasta_DB,fasta_out):\n",
        "    '''escribe un archivo fasta (fasta_out) con las secuencias de un (fasta_DB) que se encuentran en la lista (listaIds)\n",
        "    listaIds: lista de sec_names, fasta_DB: fasta file a buscar, fasta_out: fasta file de salida  '''\n",
        "    unicos=[]\n",
        "    repes=[]\n",
        "    fasta_sequences = SeqIO.parse(open(fasta_DB),'fasta')\n",
        "    with open(fasta_out, \"w\") as out_handle:\n",
        "        for a in fasta_sequences:\n",
        "            if a.description in listaIds:\n",
        "                if a.description in unicos:\n",
        "                    repes.append(a.description)\n",
        "                else:\n",
        "                    unicos.append(a.description)\n",
        "                    sequence=str(a.seq)\n",
        "                    name=a.description\n",
        "                    r=\">\"+name+\"\\n\"+sequence+'\\n'\n",
        "                    out_handle.write(r)                \n",
        "\n",
        "def blast_fasta(blastDB,samples,salida_dir,evalu=1e-50):\n",
        "    listatodos=[]\n",
        "    salida_subdir = salida_dir + blastDB.rsplit('/')[-1].rsplit('.')[0]+'/'\n",
        "    if not os.path.exists(salida_subdir): os.makedirs(salida_subdir)\n",
        "    fastain= salida_subdir +'blastp'+ '.fasta'\n",
        "    with open(fastain, \"w\") as out_handle:\n",
        "      for s in samples:\n",
        "          nseq=s\n",
        "          gen = list_fasta_target[nseq][0]\n",
        "          seq = list_fasta_target[nseq][1]\n",
        "          r=\">\"+gen+\"\\n\"+seq+'\\n'\n",
        "          out_handle.write(r)\n",
        "    outblast = salida_subdir + 'blastp' + \".tab\"\n",
        "    #print (fastain)\n",
        "    blastpcom= NcbiblastpCommandline(query= fastain, db= blast_db, \n",
        "                                            evalue=evalu, outfmt=6, \n",
        "                                            out= outblast, num_alignments = 100,\n",
        "                                            remote=False)\n",
        "    blastpcom()\n",
        "    head =['qseqid','sseqid','pident','length','mismatch','gapopen','qstart','qend','sstart','send','evalue','bitscore']\n",
        "    df = pd.read_csv(outblast,sep='\\t',names=head )\n",
        "    listatodos=list(set(list(df[\"sseqid\"])))\n",
        "    #print str(len(listatodos))\n",
        "    fasta_out =salida_dir + blastDB.rsplit('/')[-1].rsplit('.')[0]+'_sec_found.fasta'\n",
        "    listaIDstoFasta(listatodos,fasta_all,fasta_out)\n",
        "    shutil.rmtree(salida_subdir)\n",
        "    print('secuencias encontradas y unicas = ' + str(len(listatodos)))\n",
        "    return fasta_out\n",
        "\n",
        "# Borro ete\n",
        "\n",
        "def del_ete():\n",
        "  \"\"\"copio newick a carpeta salida y borro carpeta ete\"\"\"\n",
        "  nw_name=(fasta_match.rsplit('/')[-1])+'.final_tree.nw'\n",
        "  nw_folder_path = folder_out + '/mafft_default-trimal01-none-fasttree_default/'\n",
        "  #path to nw en carpeta salida de ete\n",
        "  newick_in =nw_folder_path+ nw_name\n",
        "  #copio a salida dir \n",
        "  !cp {newick_in} {salida_dir}\n",
        "  newick= salida_dir + nw_name\n",
        "  ete_path=salida_dir+\"ete\"\n",
        "  #borro carpeta ete\n",
        "  shutil.rmtree(ete_path)\n",
        "  return newick\n",
        "\n",
        "# Prune arbol\n",
        "def split_path(file):\n",
        "    \"\"\"[directorio, file_name, file_name sin filetype]\"\"\"\n",
        "    name = file.rsplit('/')[-1]\n",
        "    dire=file.replace(name,\"\")\n",
        "    sin_type=''\n",
        "    try:sin_type= name.rsplit('.')[0]\n",
        "    except:pass\n",
        "    return [dire,name,sin_type]\n",
        "\n",
        "def nw_prune_pandas (arbol, t=0.01, lab_ex=['HaemonchusContortus','CaenorhabditisElegans']):\n",
        "    ar='\"'+ arbol +'\"'\n",
        "    la=!nw_labels -I $ar\n",
        "    dist=!nw_distance $ar\n",
        "    treshold=t\n",
        "    exept=lab_ex\n",
        "    if lab_ex == '': exept = []\n",
        "    nopass=''\n",
        "    col_names=['label_superior','label_inferior','distancia','status_filtro']\n",
        "    lista=[]\n",
        "    n=0\n",
        "    for i in range(len(dist)-1):\n",
        "        la_inf = la[i+1]\n",
        "        la_sup = la[i]\n",
        "        d_inf= dist[i+1]\n",
        "        d_sup= dist[i]\n",
        "        try: dif = abs(round(float(dist[i+1])-float(dist[i]),4))\n",
        "        except:pass\n",
        "        \n",
        "        if la_sup.rsplit('_')[0]==la_inf.rsplit('_')[0] \\\n",
        "        and dif < treshold and la_sup.rsplit('_')[0] not in exept:\n",
        "            lista.append([la_sup,la_inf,dif,\"\"])\n",
        "            nopass=nopass+' '+la_sup\n",
        "            n=n+1\n",
        "        elif la_sup.rsplit('_')[0]==la_inf.rsplit('_')[0] \\\n",
        "        and dif >= treshold:\n",
        "            lista.append([la_sup,la_inf,dif,'pass'])\n",
        "    df = pd.DataFrame(lista, columns = col_names)\n",
        "    #display(df)\n",
        "    nopass= nopass[1:]\n",
        "    names=split_path(arbol)\n",
        "    arbol_prune=names[0]+names[2]+'_prune.nw'\n",
        "    print ('\\nnw_prune file: '+ arbol_prune)\n",
        "    arbolp='\"'+arbol_prune+'\"'\n",
        "    if nopass != '':  \n",
        "        !nw_prune $ar $nopass > $arbolp\n",
        "        print('remove '+str(n)+ ' labels')\n",
        "    else: \n",
        "        !cp {ar} {arbolp}\n",
        "        print('otput file is not changed')\n",
        "    return arbol_prune\n",
        "\n",
        "\n",
        "# Coloreo el arbol\n",
        "\n",
        "\"\"\"tres funciones para extraer de un newick las labels y \n",
        "     agregarles un color segun su especie \n",
        "     usando un archivo con expresiones regulares y\n",
        "     un modulo diccionario con colores en texto y su representacion\n",
        "     hexadecimal\"\"\"\n",
        "     \n",
        "def colassign_fparse(colorfile):\n",
        "  '''parse file con color regex to list\n",
        "    ['^HaemonchusContortus', 'red']'''\n",
        "  col_asign=[]\n",
        "  with open(colorfile,'r') as colfile:\n",
        "    for l in colfile:\n",
        "      if l[0] != '#':\n",
        "        try: el=l.rsplit(' ')\n",
        "        except:pass\n",
        "        col_asign.append([el[0],(el[1])[0:-1]])\n",
        "  return col_asign\n",
        "\n",
        "def colorToHexa(labcol_list, colores_dict):\n",
        "  '''cambia de texto a hex cada elemento  de la lista de regex segun color_dict\n",
        "  ['^HaemonchusContortus', 'ff0000']\n",
        "  '''\n",
        "  new_col_asign=[]\n",
        "  for el in labcol_list:\n",
        "    if el[1] in colores:\n",
        "      elc= '#'+ colores_dict[el[1]]\n",
        "      new_col_asign.append([el[0],elc])\n",
        "    else:\n",
        "      new_col_asign.append(el)\n",
        "  return (new_col_asign)\n",
        "\n",
        "def labels_hexa_list(labels, reg_hexa_list):\n",
        "  \"\"\" labels a labels con color en formato hexa segun lista de reg,col_hexa\n",
        "  ['HaemonchusContortus_00099610', 'ff0000']\"\"\"\n",
        "  lab_colhexa_dict={e[0]:e[1] for e in reg_hexa_list }\n",
        "  lab_col_fin_list=[]\n",
        "  for r in list(lab_colhexa_dict.keys()):\n",
        "    for l in labels:\n",
        "      if re.match(r,l):\n",
        "        lab_col_fin_list.append([l,lab_colhexa_dict[r]])\n",
        "  return lab_col_fin_list\n",
        "\n",
        "def nw_to_nexus(nexus_file, lab, labels_with_colors,tree_nw):\n",
        "  \"\"\"escribe nexus file\"\"\"\n",
        "  encabezado_txt=\"#NEXUS\\n\"+\"begin taxa;\\n\"+\"\\tdimensions ntax=\"+str(len(lab))+\";\\n\"+\"\\ttaxlabels\\n\"\n",
        "  lab_txt = ''\n",
        "  for e in labels_with_colors:\n",
        "    lab_txt= lab_txt + '\\t' + e[0] + '[&!color=' + e[1] + \"]\\n\"\n",
        "  sep1_txt=\";\\nend;\\n\\nbegin trees;\\n\\ttree tree_1 = [&R] \"\n",
        "  tree_txt= tree_nw[0]\n",
        "  sep2_txt='end;\\n'\n",
        "  with open(nexus_file,'w')as file_handler:\n",
        "    file_handler.write (encabezado_txt+ lab_txt +sep1_txt + tree_txt +'\\n'+ sep2_txt)\n",
        "\n",
        "def coloreo_arbol(arbol,color_file):\n",
        "  \"\"\"nw a nexus coloreado\"\"\"\n",
        "  lab = !nw_labels -I {arbol_prune}\n",
        "  # parseo archivo a [exp_reg, colors]\n",
        "  lab_col_list = colassign_fparse(color_file)\n",
        "  # convierto a [exp_reg, colores en hexa]\n",
        "  lab_colhexa_list=colorToHexa(lab_col_list,colores)\n",
        "  #labels a [labels, colores en hexa]\n",
        "  labels_with_colors = labels_hexa_list(lab,lab_colhexa_list)\n",
        "  # Escribo un archivo .nexus con el arbol formateado de colores\n",
        "  with open (arbol, \"r\") as myfile:\n",
        "      tree_nw=myfile.readlines()\n",
        "  nexf =re.match(\"(^.*)(\\.\\w{2,3})$\",arbol).group(1)+\"_col.nex\"\n",
        "  #funcion de formateo\n",
        "  nw_to_nexus(nexf,lab, labels_with_colors,tree_nw)\n",
        "  return nexf\n",
        "\n",
        "def gene_regex (lista_regex,lista_query):\n",
        "  qdict= {e[1]:e[0] for e in lista_query }\n",
        "  find=[]\n",
        "  for b in lista_regex:\n",
        "    for r in list(qdict.keys()):\n",
        "      if re.match(b,r):\n",
        "        find.append(qdict[r])\n",
        "  return find"
      ],
      "execution_count": 0,
      "outputs": []
    },
    {
      "cell_type": "markdown",
      "metadata": {
        "id": "p3wa6R5pD05B",
        "colab_type": "text"
      },
      "source": [
        "## 3. Seccion de codigo\n",
        "### 3.1 Nombres de archivos y carpetas\n"
      ]
    },
    {
      "cell_type": "code",
      "metadata": {
        "id": "PmRsrTnlD1De",
        "colab_type": "code",
        "colab": {}
      },
      "source": [
        "# archivos de entrada \n",
        "\n",
        "#Directorio de escritura de las salidas\n",
        "salida_dir=\"/content/genefiles/salida/\"\n",
        "if not os.path.exists(salida_dir): os.makedirs(salida_dir)\n",
        "\n",
        "#directorio de fastas\n",
        "dir_prot_cortos=\"/content/genefiles/\"\n",
        "\n",
        "#fasta con base de datos de proteinas a blastear\n",
        "fasta_all= '/content/genefiles/Concatenated_datasets-273.fasta'\n",
        "\n",
        "#fasta con lista de proteinas a buscar o query\n",
        "targets_fasta=\"/content/genefiles/abc-cel.fasta-183.fasta\"\n",
        "\n",
        "#blastDB: salida del makeblastdb\n",
        "blast_db= salida_dir + 'fasta_all_db'\n",
        "\n",
        "#colored file con expresiones regulares\n",
        "colfile2= '/content/genefiles/nw_colors/color2.txt'\n",
        "\n"
      ],
      "execution_count": 0,
      "outputs": []
    },
    {
      "cell_type": "markdown",
      "metadata": {
        "id": "IGC8IUJwFhjB",
        "colab_type": "text"
      },
      "source": [
        "### 3.2 ejecucion de scrips"
      ]
    },
    {
      "cell_type": "code",
      "metadata": {
        "id": "YYlCd8gVFr8a",
        "colab_type": "code",
        "colab": {}
      },
      "source": [
        "%%capture\n",
        "# base de datos de proteinas para blastear\n",
        "\n",
        "!makeblastdb -in {fasta_all} -dbtype prot -out {blast_db}\n",
        "\n",
        "# lista de query names:  [0, 'haf-4'], [1, 'haf-6'], ...\n",
        "\n",
        "records = list(SeqIO.parse(open(targets_fasta), \"fasta\"))\n",
        "lista= list([[n,r.name.rsplit(\"_\")[-1]] for (n,r) in enumerate(records)])\n",
        "\n",
        "# lista de query names y secuencia en el mismo orden que lista\n",
        "list_fasta_target=FastaFileToList(targets_fasta)\n"
      ],
      "execution_count": 0,
      "outputs": []
    },
    {
      "cell_type": "code",
      "metadata": {
        "id": "fFmjB4PKIcPn",
        "colab_type": "code",
        "outputId": "fdf895fd-9c48-460c-f806-5b9373dab774",
        "colab": {
          "base_uri": "https://localhost:8080/",
          "height": 53
        }
      },
      "source": [
        "#seleccionar queries por posicion \n",
        "print(lista)"
      ],
      "execution_count": 0,
      "outputs": [
        {
          "output_type": "stream",
          "text": [
            "[[0, 'haf-4'], [1, 'haf-6'], [2, 'abt-2'], [3, 'abtm-1'], [4, 'pgp-2'], [5, 'haf-9'], [6, 'abt-6'], [7, 'abt-5'], [8, 'wht-4'], [9, 'abch-1'], [10, 'abcx-1'], [11, 'pmp-1'], [12, 'pmp-2'], [13, 'haf-2'], [14, 'pgp-11'], [15, 'wht-3'], [16, 'wht-1'], [17, 'wht-7'], [18, 'abcf-3'], [19, 'wht-6'], [20, 'ced-7'], [21, 'hmt-1'], [22, 'wht-8'], [23, 'mrp-8'], [24, 'wht-9'], [25, 'abce-1'], [26, 'abcf-2'], [27, 'abt-1'], [28, 'wht-2'], [29, 'wht-5'], [30, 'pgp-1'], [31, 'abt-3'], [32, 'haf-8'], [33, 'haf-1'], [34, 'pmp-4'], [35, 'abt-4'], [36, 'cft-1'], [37, 'pmp-5'], [38, 'abcf-1'], [39, 'pmp-3'], [40, 'haf-7'], [41, 'haf-3'], [42, 'pgp-9'], [43, 'mrp-7'], [44, 'mrp-2'], [45, 'mrp-1'], [46, 'mrp-6'], [47, 'pgp-10'], [48, 'mrp-4'], [49, 'pgp-5'], [50, 'pgp-8'], [51, 'pgp-7'], [52, 'pgp-6'], [53, 'pgp-3'], [54, 'pgp-4'], [55, 'pgp-12'], [56, 'pgp-13'], [57, 'pgp-14'], [58, 'pgp-15'], [59, 'mrp-5'], [60, 'mrp-3']]\n"
          ],
          "name": "stdout"
        }
      ]
    },
    {
      "cell_type": "code",
      "metadata": {
        "id": "oae4wAZpBcIc",
        "colab_type": "code",
        "outputId": "afe7bae5-a160-483a-95ea-491cd45f58f3",
        "colab": {
          "base_uri": "https://localhost:8080/",
          "height": 33
        }
      },
      "source": [
        "todas=[e[0]for e in lista]\n",
        "genes = gene_regex(['^abc'],lista)\n",
        "genes"
      ],
      "execution_count": 0,
      "outputs": [
        {
          "output_type": "execute_result",
          "data": {
            "text/plain": [
              "[9, 10, 18, 25, 26, 38]"
            ]
          },
          "metadata": {
            "tags": []
          },
          "execution_count": 23
        }
      ]
    },
    {
      "cell_type": "code",
      "metadata": {
        "id": "46L24vekJxz6",
        "colab_type": "code",
        "colab": {}
      },
      "source": [
        "#seleccionar queries por posicion en lista\n",
        "samples_interes= [11,12,34,37,39]\n",
        "samples_interes=todas"
      ],
      "execution_count": 0,
      "outputs": []
    },
    {
      "cell_type": "code",
      "metadata": {
        "id": "9Q8A4_0WI3YI",
        "colab_type": "code",
        "colab": {}
      },
      "source": [
        "%%capture\n",
        "#corro blast, busco prot match en prot_bd  salida: fasta\n",
        "\n",
        "fasta_match = blast_fasta(blast_db,samples_interes,salida_dir,evalu= 1e-50)\n",
        "\n",
        "#corro ete3  salida neta: newick\n",
        "\n",
        "#folder de salida de archivos de ete3\n",
        "folder_out=salida_dir+'ete/'+(fasta_match.rsplit('/')[-1]).rsplit('.')[0]\n",
        "\n",
        "!xvfb-run ete3 build -a {fasta_match} -o {folder_out} --clearall -w mafft_default-trimal01-none-fasttree_default\n",
        "newick = del_ete()\n",
        "\n",
        "# Prune arbol salida: newick\n",
        "arbol_prune = nw_prune_pandas(newick)\n",
        "\n",
        "# Coloreo arbol  salida: nexus\n",
        "# obtengo la lista de labels con newick edit\n",
        "\n",
        "nexus_file= coloreo_arbol(arbol_prune, colfile2)\n"
      ],
      "execution_count": 0,
      "outputs": []
    },
    {
      "cell_type": "code",
      "metadata": {
        "id": "-xeCiYZn6DHx",
        "colab_type": "code",
        "outputId": "fffed7ee-a8c4-4c83-fe53-289246df65ae",
        "colab": {
          "base_uri": "https://localhost:8080/",
          "height": 66
        }
      },
      "source": [
        "!ls /content/drive/My\\ Drive/arboles_out/"
      ],
      "execution_count": 0,
      "outputs": [
        {
          "output_type": "stream",
          "text": [
            " fasta_all_db_sec_found_prune_col.nex  'pmp(1)e50.nex'\t'pmp(2)e50.nex'\n",
            "'haf(1)e50.nex'\t\t\t        pmp1.nex\t'todas(1)e50.nex'\n",
            "'hafypgp(1)e50.nex'\t\t       'pmp(2)e10.nex'\n"
          ],
          "name": "stdout"
        }
      ]
    },
    {
      "cell_type": "code",
      "metadata": {
        "id": "08zwNpcmbvO3",
        "colab_type": "code",
        "colab": {}
      },
      "source": [
        "!cp {nexus_file} /content/drive/My\\ Drive/arboles_out/todas\\(1\\)e50.nex"
      ],
      "execution_count": 0,
      "outputs": []
    },
    {
      "cell_type": "code",
      "metadata": {
        "id": "AZRxaS4JSaBf",
        "colab_type": "code",
        "colab": {}
      },
      "source": [
        ""
      ],
      "execution_count": 0,
      "outputs": []
    }
  ]
}
